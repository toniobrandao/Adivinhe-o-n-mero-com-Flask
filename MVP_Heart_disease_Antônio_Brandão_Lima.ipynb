{
  "cells": [
    {
      "cell_type": "markdown",
      "metadata": {
        "id": "view-in-github",
        "colab_type": "text"
      },
      "source": [
        "<a href=\"https://colab.research.google.com/github/toniobrandao/Adivinhe-o-n-mero-com-Flask/blob/main/MVP_Heart_disease_Ant%C3%B4nio_Brand%C3%A3o_Lima.ipynb\" target=\"_parent\"><img src=\"https://colab.research.google.com/assets/colab-badge.svg\" alt=\"Open In Colab\"/></a>"
      ]
    },
    {
      "cell_type": "markdown",
      "metadata": {
        "id": "rpy4C9iLkRJ8"
      },
      "source": [
        "# MVP de Engenharia de Software para sistemas inteligentes\n",
        "\n",
        "## Aluno: Antônio Brandão Lima"
      ]
    },
    {
      "cell_type": "markdown",
      "source": [
        "Este trabalho é referente ao MVP da segunda sprint (Qualidade de Software, Segurança e Sistemas Inteligentes ) do curso de Pós-Graduação em Engenharia de Software da PUC-RJ."
      ],
      "metadata": {
        "id": "KEjfepcewUEs"
      }
    },
    {
      "cell_type": "markdown",
      "source": [
        "##1.0 - Definição do problema"
      ],
      "metadata": {
        "id": "uwZXWqNSuiM1"
      }
    },
    {
      "cell_type": "markdown",
      "source": [
        "As doenças cardíacas representam uma das principais razões para óbitos ao redor do mundo. Fatores de risco associados a essas condições incluem a idade,gênero, antecedentes familiares, níveis elevados de colesterol, pressão arterial descontrolada, hábito de fumar, estilo de vida sedentário e excesso de peso.\n",
        "\n",
        "Com isso, consultas médicas preventivas são cruciais na manutenção da saúde cardiovascular, oferecendo a oportunidade de identificar precocemente fatores de risco. O tratamento precoce, aliado ao acompanhamento médico regular, não apenas previne condições cardíacas, mas também possibilita um gerenciamento eficaz, melhorando significativamente a qualidade de vida dos pacientes."
      ],
      "metadata": {
        "id": "stNOFSXTmgBC"
      }
    },
    {
      "cell_type": "markdown",
      "source": [
        "### 1.1 - Explicações preliminares\n",
        "Abaixo a explicação de conceitos médicos que foram utilizados no dataset.\n",
        "\n",
        "\n",
        "**Angina:** condição de dor ou desconforto no peito que ocorre quando o músculo cardíaco não recebe sangue suficiente, geralmente devido à obstrução parcial das artérias coronárias, sendo um sintoma comum de doença cardíaca.\n",
        "\n",
        "\n",
        "**Angiografia coronária:** procedimento médico que utiliza um corante especial e raios-X para examinar as artérias coronárias do coração.\n",
        "\n",
        "**Talassemia:** distúrbio sanguíneo hereditário que afeta a produção de hemoglobina.\n",
        "\n",
        "\n",
        "**Eletrocardiograma (ECG):** exame médico que registra a atividade elétrica do coração.\n",
        "\n",
        "Abaixo, a imagem de um ciclo a ser analisado de um eletrocardiograma, com suas respectivas divisões:\n"
      ],
      "metadata": {
        "id": "OJ6S2XHegpPQ"
      }
    },
    {
      "cell_type": "code",
      "source": [
        "# Importação da imagem\n",
        "from IPython.display import Image\n",
        "Image(url='https://raw.githubusercontent.com/toniobrandao/MVP-Segunda-Sprint-PUC-RIO/main/img/eletrocardiograma.jpeg')"
      ],
      "metadata": {
        "colab": {
          "base_uri": "https://localhost:8080/",
          "height": 623
        },
        "id": "-W5ayllVl7Wu",
        "outputId": "11ac22e1-24cd-42b8-91fe-37da2ac7bcba"
      },
      "execution_count": null,
      "outputs": [
        {
          "output_type": "execute_result",
          "data": {
            "text/html": [
              "<img src=\"https://raw.githubusercontent.com/toniobrandao/MVP-Segunda-Sprint-PUC-RIO/main/img/eletrocardiograma.jpeg\"/>"
            ],
            "text/plain": [
              "<IPython.core.display.Image object>"
            ]
          },
          "metadata": {},
          "execution_count": 10
        }
      ]
    },
    {
      "cell_type": "markdown",
      "source": [
        "**Fonte:** Ratownictwo24.pl, 3 de Janeiro de 2017. https://ratownicy24.pl/ekg-w-pediatrii-wprowadzenie-do-elektrokardiografii-cz-i/3/.\n",
        "\n",
        "\n",
        "\n",
        "\n",
        "**Onda P:** Representa a atividade dos átrios do coração. Indica o momento em que os átrios se contraem para enviar o sangue aos ventrículos.\n",
        "\n",
        "**Complexo QRS:** Reflete a atividade dos ventrículos. Mostra quando os ventrículos se contraem para bombear o sangue para fora do coração.\n",
        "\n",
        "**Segmento ST:** É uma parte do ECG entre o batimento dos átrios e a recuperação dos ventrículos. Mudanças aqui podem indicar problemas no fornecimento de oxigênio ao coração.\n",
        "\n",
        "**Onda T:** Reflete a recuperação elétrica dos ventrículos. Mostra quando os ventrículos se preparam para o próximo batimento. Mudanças aqui podem indicar problemas cardíacos.\n",
        "\n",
        "Os segmentos do eletrocardiograma que são particularmente importantes para indicar possíveis problemas cardíados são o o segmento ST e a onda T, que serão os utilizados no dataset."
      ],
      "metadata": {
        "id": "l9E9Amlhnxkk"
      }
    },
    {
      "cell_type": "markdown",
      "source": [
        "### 1.2 - O Dataset\n",
        "\n",
        "O conjunto de dados \"Heart Disease UCI\" contém detalhes de pacientes submetidos à avaliação de doenças cardíacas, disponível em formato CSV.\n",
        "\n",
        "Esse conjunto de dados abrange informações de pacientes do Hospital de Cleveland, totalizando 303 indivíduos e 14 colunas selecionadas dentre um conjunto original de 75. É importante mencionar que não há valores ausentes nesse conjunto de dados.\n",
        "\n",
        "A tarefa de classificação associada a este conjunto de dados é prever se um indivíduo possui propensão a desenvolver complicações cardíacas.\n",
        "\n",
        "O dataset completo pode ser encontrado em https://archive.ics.uci.edu/ml/datasets/Heart+Disease.\n",
        "\n",
        "Os autores do arquivo estão abaixo:\n",
        "\n",
        "1. Robert Detrano, M.D., Ph.D. - Centro Médico V.A. em Long Beach e Fundação da Clínica Cleveland\n",
        "2. Andras Janosi, M.D. - Instituto Húngaro de Cardiologia em Budapeste\n",
        "3. Matthias Pfisterer, M.D. - Hospital Universitário, Basel, Suíça\n",
        "4. William Steinbrunn, M.D. - Hospital Universitário de Zurique, Suíça\n",
        "\n",
        "**Informações sobre os atributos:**\n",
        "Abaixo há a explicação de cada um dos atributos específicos do dataset.\n",
        "1. **idade:** idade do paciente em anos.\n",
        "2. **sexo:** **1** masculino e **0** feminino\n",
        "3. **cp:** dores no peito (chest pain) (**0** angina tipica, **1** angina atipica, **2** dor torácica não anginal, **3** assintomático).\n",
        "4. **trestbps:** pressão arterial em repouso (em mm/Hg na adimissão ao hospital)\n",
        "5. **chol:** colesterol do paciente em mg/dl\n",
        "6. **fbs:** se a glicose em jejum (fasting blood sugar) é maior que 120 mg/dl (**1** verdadeiro, **0** falso). Indicando se o paciente está com hiperglicemia ou não, o que pode indicar um risco aumentado para diabetes.\n",
        "7. **restecg:** eletrocardiograma em repouso (**0** normal, **1** anormalidades da onda ST-T , **2** hipertrofia ventricular esquerda provável ou definitiva)\n",
        "8. **thalach:** batimentos cardiacos maximo por minuto alcançado  durante um teste de esforço ou exercício físico\n",
        "9. **exang:** exercicio induz angina? (**1** sim, **0** não)\n",
        "10. **oldpeak:** Esse atributo mede a depressão do segmento ST do eletrocardiograma (ECG) induzida pelo exercício físico em relação ao repouso. A depressão do segmento ST é uma medida da isquemia miocárdica, que é uma redução do suprimento de sangue ao músculo cardíaco, geralmente devido a uma obstrução nas artérias coronárias. É expresso em milímetros (mm).  **Valores elevados de \"Oldpeak\" podem indicar uma isquemia miocárdica mais acentuada** e um risco maior de complicações cardíacas.\n",
        "11. **slope:** A inclinação do segmento ST durante o pico do exercício. Pode conter os seguintes valores:\n",
        "      0. indica uma inclinação descendente do segmento ST durante o pico do exercício, o que indica uma doença arterial coronariana mais grave e um risco elevado de eventos cardiovasculares futuros.\n",
        "      1. indica um segmento ST plano durante o pico do exercício, o que pode indicar uma doença arterial coronariana em estágio inicial e um risco moderado de eventos cardiovasculares futuros.\n",
        "      2. indica uma inclinação ascendente do segmento ST durante o pico do exercício, o que é considerado normal e indica menor risco de eventos cardiovasculares futuros.\n",
        "12. **ca:** número de vasos sanguíneos importantes no coração que foram visualizados durante uma angiografia coronária (**0-3**) coloridas por fluoroscopia.\n",
        "13. **thal:** ocorrência de talassemia:\n",
        "      0. NULO (removido anteriormente do conjunto de dados)\n",
        "      1. defeito fixo (sem fluxo sanguíneo em alguma parte do coração)\n",
        "      2. fluxo sanguíneo normal\n",
        "      3. defeito reversível (um fluxo sanguíneo é observado, mas não é normal)\n",
        "14. **target:** status da doença arterial coronariana diagnosticada pelo exame angiográfico (**0** Ausência de doença cardíaca, **1** Presença de doença cardíaca)\n",
        "\n"
      ],
      "metadata": {
        "id": "3uz054Rdgixp"
      }
    },
    {
      "cell_type": "markdown",
      "metadata": {
        "id": "__FAWyYJ2NEv"
      },
      "source": [
        "## 2.0 - Carga do dataset"
      ]
    },
    {
      "cell_type": "markdown",
      "source": [
        "Nessa etapa é feita a importação das bibliotecas utilizadas no código e a carga do dataset."
      ],
      "metadata": {
        "id": "iKvdtaq7eXAV"
      }
    },
    {
      "cell_type": "markdown",
      "metadata": {
        "id": "B5_Rajif1bjA"
      },
      "source": [
        "### 2.1 - Importando as bibliotecas\n"
      ]
    },
    {
      "cell_type": "markdown",
      "source": [
        "Importando as bibliotecas necessárias para o projeto."
      ],
      "metadata": {
        "id": "2XxCuvUD07mT"
      }
    },
    {
      "cell_type": "code",
      "execution_count": 21,
      "metadata": {
        "id": "Z5vyROBE1sst"
      },
      "outputs": [],
      "source": [
        "import pandas as pd\n",
        "import numpy as np\n",
        "import matplotlib.pyplot as plt\n",
        "import seaborn as sns\n",
        "from sklearn.preprocessing import StandardScaler\n",
        "from sklearn.preprocessing import MinMaxScaler\n",
        "from sklearn.preprocessing import LabelEncoder\n",
        "from sklearn.model_selection import train_test_split\n",
        "from sklearn.model_selection import KFold\n",
        "from sklearn.model_selection import StratifiedKFold\n",
        "from sklearn.model_selection import cross_val_score\n",
        "from sklearn.model_selection import GridSearchCV\n",
        "from sklearn.metrics import accuracy_score\n",
        "from sklearn.pipeline import Pipeline\n",
        "from sklearn.tree import DecisionTreeClassifier\n",
        "from sklearn.neighbors import KNeighborsClassifier\n",
        "from sklearn.naive_bayes import GaussianNB\n",
        "from sklearn.svm import SVC\n",
        "import pickle\n",
        "import joblib\n",
        "from sklearn import datasets"
      ]
    },
    {
      "cell_type": "markdown",
      "source": [
        "### 2.2 - Realizando a carga dos dados"
      ],
      "metadata": {
        "id": "Wb23cVc-8CTb"
      }
    },
    {
      "cell_type": "markdown",
      "source": [
        "Utilizando a biblioteca pandas, foi feita a carga dos dados em CSV para o formato dataframe.\n"
      ],
      "metadata": {
        "id": "mhVvaLS5zcMu"
      }
    },
    {
      "cell_type": "code",
      "execution_count": 3,
      "metadata": {
        "colab": {
          "base_uri": "https://localhost:8080/",
          "height": 0
        },
        "id": "ga5LYvhy2a0W",
        "outputId": "35664fac-32a1-4d83-a179-4997d66b86be"
      },
      "outputs": [
        {
          "output_type": "execute_result",
          "data": {
            "text/plain": [
              "   age  sex  cp  trestbps  chol  fbs  restecg  thalach  exang  oldpeak  slope  \\\n",
              "0   63    1   3       145   233    1        0      150      0      2.3      0   \n",
              "1   37    1   2       130   250    0        1      187      0      3.5      0   \n",
              "2   41    0   1       130   204    0        0      172      0      1.4      2   \n",
              "3   56    1   1       120   236    0        1      178      0      0.8      2   \n",
              "4   57    0   0       120   354    0        1      163      1      0.6      2   \n",
              "5   57    1   0       140   192    0        1      148      0      0.4      1   \n",
              "6   56    0   1       140   294    0        0      153      0      1.3      1   \n",
              "7   44    1   1       120   263    0        1      173      0      0.0      2   \n",
              "8   52    1   2       172   199    1        1      162      0      0.5      2   \n",
              "9   57    1   2       150   168    0        1      174      0      1.6      2   \n",
              "\n",
              "   ca  thal  target  \n",
              "0   0     1       1  \n",
              "1   0     2       1  \n",
              "2   0     2       1  \n",
              "3   0     2       1  \n",
              "4   0     2       1  \n",
              "5   0     1       1  \n",
              "6   0     2       1  \n",
              "7   0     3       1  \n",
              "8   0     3       1  \n",
              "9   0     2       1  "
            ],
            "text/html": [
              "\n",
              "  <div id=\"df-a12ebae0-2fa6-44ff-b5c3-1341def941cc\" class=\"colab-df-container\">\n",
              "    <div>\n",
              "<style scoped>\n",
              "    .dataframe tbody tr th:only-of-type {\n",
              "        vertical-align: middle;\n",
              "    }\n",
              "\n",
              "    .dataframe tbody tr th {\n",
              "        vertical-align: top;\n",
              "    }\n",
              "\n",
              "    .dataframe thead th {\n",
              "        text-align: right;\n",
              "    }\n",
              "</style>\n",
              "<table border=\"1\" class=\"dataframe\">\n",
              "  <thead>\n",
              "    <tr style=\"text-align: right;\">\n",
              "      <th></th>\n",
              "      <th>age</th>\n",
              "      <th>sex</th>\n",
              "      <th>cp</th>\n",
              "      <th>trestbps</th>\n",
              "      <th>chol</th>\n",
              "      <th>fbs</th>\n",
              "      <th>restecg</th>\n",
              "      <th>thalach</th>\n",
              "      <th>exang</th>\n",
              "      <th>oldpeak</th>\n",
              "      <th>slope</th>\n",
              "      <th>ca</th>\n",
              "      <th>thal</th>\n",
              "      <th>target</th>\n",
              "    </tr>\n",
              "  </thead>\n",
              "  <tbody>\n",
              "    <tr>\n",
              "      <th>0</th>\n",
              "      <td>63</td>\n",
              "      <td>1</td>\n",
              "      <td>3</td>\n",
              "      <td>145</td>\n",
              "      <td>233</td>\n",
              "      <td>1</td>\n",
              "      <td>0</td>\n",
              "      <td>150</td>\n",
              "      <td>0</td>\n",
              "      <td>2.3</td>\n",
              "      <td>0</td>\n",
              "      <td>0</td>\n",
              "      <td>1</td>\n",
              "      <td>1</td>\n",
              "    </tr>\n",
              "    <tr>\n",
              "      <th>1</th>\n",
              "      <td>37</td>\n",
              "      <td>1</td>\n",
              "      <td>2</td>\n",
              "      <td>130</td>\n",
              "      <td>250</td>\n",
              "      <td>0</td>\n",
              "      <td>1</td>\n",
              "      <td>187</td>\n",
              "      <td>0</td>\n",
              "      <td>3.5</td>\n",
              "      <td>0</td>\n",
              "      <td>0</td>\n",
              "      <td>2</td>\n",
              "      <td>1</td>\n",
              "    </tr>\n",
              "    <tr>\n",
              "      <th>2</th>\n",
              "      <td>41</td>\n",
              "      <td>0</td>\n",
              "      <td>1</td>\n",
              "      <td>130</td>\n",
              "      <td>204</td>\n",
              "      <td>0</td>\n",
              "      <td>0</td>\n",
              "      <td>172</td>\n",
              "      <td>0</td>\n",
              "      <td>1.4</td>\n",
              "      <td>2</td>\n",
              "      <td>0</td>\n",
              "      <td>2</td>\n",
              "      <td>1</td>\n",
              "    </tr>\n",
              "    <tr>\n",
              "      <th>3</th>\n",
              "      <td>56</td>\n",
              "      <td>1</td>\n",
              "      <td>1</td>\n",
              "      <td>120</td>\n",
              "      <td>236</td>\n",
              "      <td>0</td>\n",
              "      <td>1</td>\n",
              "      <td>178</td>\n",
              "      <td>0</td>\n",
              "      <td>0.8</td>\n",
              "      <td>2</td>\n",
              "      <td>0</td>\n",
              "      <td>2</td>\n",
              "      <td>1</td>\n",
              "    </tr>\n",
              "    <tr>\n",
              "      <th>4</th>\n",
              "      <td>57</td>\n",
              "      <td>0</td>\n",
              "      <td>0</td>\n",
              "      <td>120</td>\n",
              "      <td>354</td>\n",
              "      <td>0</td>\n",
              "      <td>1</td>\n",
              "      <td>163</td>\n",
              "      <td>1</td>\n",
              "      <td>0.6</td>\n",
              "      <td>2</td>\n",
              "      <td>0</td>\n",
              "      <td>2</td>\n",
              "      <td>1</td>\n",
              "    </tr>\n",
              "    <tr>\n",
              "      <th>5</th>\n",
              "      <td>57</td>\n",
              "      <td>1</td>\n",
              "      <td>0</td>\n",
              "      <td>140</td>\n",
              "      <td>192</td>\n",
              "      <td>0</td>\n",
              "      <td>1</td>\n",
              "      <td>148</td>\n",
              "      <td>0</td>\n",
              "      <td>0.4</td>\n",
              "      <td>1</td>\n",
              "      <td>0</td>\n",
              "      <td>1</td>\n",
              "      <td>1</td>\n",
              "    </tr>\n",
              "    <tr>\n",
              "      <th>6</th>\n",
              "      <td>56</td>\n",
              "      <td>0</td>\n",
              "      <td>1</td>\n",
              "      <td>140</td>\n",
              "      <td>294</td>\n",
              "      <td>0</td>\n",
              "      <td>0</td>\n",
              "      <td>153</td>\n",
              "      <td>0</td>\n",
              "      <td>1.3</td>\n",
              "      <td>1</td>\n",
              "      <td>0</td>\n",
              "      <td>2</td>\n",
              "      <td>1</td>\n",
              "    </tr>\n",
              "    <tr>\n",
              "      <th>7</th>\n",
              "      <td>44</td>\n",
              "      <td>1</td>\n",
              "      <td>1</td>\n",
              "      <td>120</td>\n",
              "      <td>263</td>\n",
              "      <td>0</td>\n",
              "      <td>1</td>\n",
              "      <td>173</td>\n",
              "      <td>0</td>\n",
              "      <td>0.0</td>\n",
              "      <td>2</td>\n",
              "      <td>0</td>\n",
              "      <td>3</td>\n",
              "      <td>1</td>\n",
              "    </tr>\n",
              "    <tr>\n",
              "      <th>8</th>\n",
              "      <td>52</td>\n",
              "      <td>1</td>\n",
              "      <td>2</td>\n",
              "      <td>172</td>\n",
              "      <td>199</td>\n",
              "      <td>1</td>\n",
              "      <td>1</td>\n",
              "      <td>162</td>\n",
              "      <td>0</td>\n",
              "      <td>0.5</td>\n",
              "      <td>2</td>\n",
              "      <td>0</td>\n",
              "      <td>3</td>\n",
              "      <td>1</td>\n",
              "    </tr>\n",
              "    <tr>\n",
              "      <th>9</th>\n",
              "      <td>57</td>\n",
              "      <td>1</td>\n",
              "      <td>2</td>\n",
              "      <td>150</td>\n",
              "      <td>168</td>\n",
              "      <td>0</td>\n",
              "      <td>1</td>\n",
              "      <td>174</td>\n",
              "      <td>0</td>\n",
              "      <td>1.6</td>\n",
              "      <td>2</td>\n",
              "      <td>0</td>\n",
              "      <td>2</td>\n",
              "      <td>1</td>\n",
              "    </tr>\n",
              "  </tbody>\n",
              "</table>\n",
              "</div>\n",
              "    <div class=\"colab-df-buttons\">\n",
              "\n",
              "  <div class=\"colab-df-container\">\n",
              "    <button class=\"colab-df-convert\" onclick=\"convertToInteractive('df-a12ebae0-2fa6-44ff-b5c3-1341def941cc')\"\n",
              "            title=\"Convert this dataframe to an interactive table.\"\n",
              "            style=\"display:none;\">\n",
              "\n",
              "  <svg xmlns=\"http://www.w3.org/2000/svg\" height=\"24px\" viewBox=\"0 -960 960 960\">\n",
              "    <path d=\"M120-120v-720h720v720H120Zm60-500h600v-160H180v160Zm220 220h160v-160H400v160Zm0 220h160v-160H400v160ZM180-400h160v-160H180v160Zm440 0h160v-160H620v160ZM180-180h160v-160H180v160Zm440 0h160v-160H620v160Z\"/>\n",
              "  </svg>\n",
              "    </button>\n",
              "\n",
              "  <style>\n",
              "    .colab-df-container {\n",
              "      display:flex;\n",
              "      gap: 12px;\n",
              "    }\n",
              "\n",
              "    .colab-df-convert {\n",
              "      background-color: #E8F0FE;\n",
              "      border: none;\n",
              "      border-radius: 50%;\n",
              "      cursor: pointer;\n",
              "      display: none;\n",
              "      fill: #1967D2;\n",
              "      height: 32px;\n",
              "      padding: 0 0 0 0;\n",
              "      width: 32px;\n",
              "    }\n",
              "\n",
              "    .colab-df-convert:hover {\n",
              "      background-color: #E2EBFA;\n",
              "      box-shadow: 0px 1px 2px rgba(60, 64, 67, 0.3), 0px 1px 3px 1px rgba(60, 64, 67, 0.15);\n",
              "      fill: #174EA6;\n",
              "    }\n",
              "\n",
              "    .colab-df-buttons div {\n",
              "      margin-bottom: 4px;\n",
              "    }\n",
              "\n",
              "    [theme=dark] .colab-df-convert {\n",
              "      background-color: #3B4455;\n",
              "      fill: #D2E3FC;\n",
              "    }\n",
              "\n",
              "    [theme=dark] .colab-df-convert:hover {\n",
              "      background-color: #434B5C;\n",
              "      box-shadow: 0px 1px 3px 1px rgba(0, 0, 0, 0.15);\n",
              "      filter: drop-shadow(0px 1px 2px rgba(0, 0, 0, 0.3));\n",
              "      fill: #FFFFFF;\n",
              "    }\n",
              "  </style>\n",
              "\n",
              "    <script>\n",
              "      const buttonEl =\n",
              "        document.querySelector('#df-a12ebae0-2fa6-44ff-b5c3-1341def941cc button.colab-df-convert');\n",
              "      buttonEl.style.display =\n",
              "        google.colab.kernel.accessAllowed ? 'block' : 'none';\n",
              "\n",
              "      async function convertToInteractive(key) {\n",
              "        const element = document.querySelector('#df-a12ebae0-2fa6-44ff-b5c3-1341def941cc');\n",
              "        const dataTable =\n",
              "          await google.colab.kernel.invokeFunction('convertToInteractive',\n",
              "                                                    [key], {});\n",
              "        if (!dataTable) return;\n",
              "\n",
              "        const docLinkHtml = 'Like what you see? Visit the ' +\n",
              "          '<a target=\"_blank\" href=https://colab.research.google.com/notebooks/data_table.ipynb>data table notebook</a>'\n",
              "          + ' to learn more about interactive tables.';\n",
              "        element.innerHTML = '';\n",
              "        dataTable['output_type'] = 'display_data';\n",
              "        await google.colab.output.renderOutput(dataTable, element);\n",
              "        const docLink = document.createElement('div');\n",
              "        docLink.innerHTML = docLinkHtml;\n",
              "        element.appendChild(docLink);\n",
              "      }\n",
              "    </script>\n",
              "  </div>\n",
              "\n",
              "\n",
              "<div id=\"df-b07e4785-b967-4b60-ab5f-88caa746a73f\">\n",
              "  <button class=\"colab-df-quickchart\" onclick=\"quickchart('df-b07e4785-b967-4b60-ab5f-88caa746a73f')\"\n",
              "            title=\"Suggest charts\"\n",
              "            style=\"display:none;\">\n",
              "\n",
              "<svg xmlns=\"http://www.w3.org/2000/svg\" height=\"24px\"viewBox=\"0 0 24 24\"\n",
              "     width=\"24px\">\n",
              "    <g>\n",
              "        <path d=\"M19 3H5c-1.1 0-2 .9-2 2v14c0 1.1.9 2 2 2h14c1.1 0 2-.9 2-2V5c0-1.1-.9-2-2-2zM9 17H7v-7h2v7zm4 0h-2V7h2v10zm4 0h-2v-4h2v4z\"/>\n",
              "    </g>\n",
              "</svg>\n",
              "  </button>\n",
              "\n",
              "<style>\n",
              "  .colab-df-quickchart {\n",
              "      --bg-color: #E8F0FE;\n",
              "      --fill-color: #1967D2;\n",
              "      --hover-bg-color: #E2EBFA;\n",
              "      --hover-fill-color: #174EA6;\n",
              "      --disabled-fill-color: #AAA;\n",
              "      --disabled-bg-color: #DDD;\n",
              "  }\n",
              "\n",
              "  [theme=dark] .colab-df-quickchart {\n",
              "      --bg-color: #3B4455;\n",
              "      --fill-color: #D2E3FC;\n",
              "      --hover-bg-color: #434B5C;\n",
              "      --hover-fill-color: #FFFFFF;\n",
              "      --disabled-bg-color: #3B4455;\n",
              "      --disabled-fill-color: #666;\n",
              "  }\n",
              "\n",
              "  .colab-df-quickchart {\n",
              "    background-color: var(--bg-color);\n",
              "    border: none;\n",
              "    border-radius: 50%;\n",
              "    cursor: pointer;\n",
              "    display: none;\n",
              "    fill: var(--fill-color);\n",
              "    height: 32px;\n",
              "    padding: 0;\n",
              "    width: 32px;\n",
              "  }\n",
              "\n",
              "  .colab-df-quickchart:hover {\n",
              "    background-color: var(--hover-bg-color);\n",
              "    box-shadow: 0 1px 2px rgba(60, 64, 67, 0.3), 0 1px 3px 1px rgba(60, 64, 67, 0.15);\n",
              "    fill: var(--button-hover-fill-color);\n",
              "  }\n",
              "\n",
              "  .colab-df-quickchart-complete:disabled,\n",
              "  .colab-df-quickchart-complete:disabled:hover {\n",
              "    background-color: var(--disabled-bg-color);\n",
              "    fill: var(--disabled-fill-color);\n",
              "    box-shadow: none;\n",
              "  }\n",
              "\n",
              "  .colab-df-spinner {\n",
              "    border: 2px solid var(--fill-color);\n",
              "    border-color: transparent;\n",
              "    border-bottom-color: var(--fill-color);\n",
              "    animation:\n",
              "      spin 1s steps(1) infinite;\n",
              "  }\n",
              "\n",
              "  @keyframes spin {\n",
              "    0% {\n",
              "      border-color: transparent;\n",
              "      border-bottom-color: var(--fill-color);\n",
              "      border-left-color: var(--fill-color);\n",
              "    }\n",
              "    20% {\n",
              "      border-color: transparent;\n",
              "      border-left-color: var(--fill-color);\n",
              "      border-top-color: var(--fill-color);\n",
              "    }\n",
              "    30% {\n",
              "      border-color: transparent;\n",
              "      border-left-color: var(--fill-color);\n",
              "      border-top-color: var(--fill-color);\n",
              "      border-right-color: var(--fill-color);\n",
              "    }\n",
              "    40% {\n",
              "      border-color: transparent;\n",
              "      border-right-color: var(--fill-color);\n",
              "      border-top-color: var(--fill-color);\n",
              "    }\n",
              "    60% {\n",
              "      border-color: transparent;\n",
              "      border-right-color: var(--fill-color);\n",
              "    }\n",
              "    80% {\n",
              "      border-color: transparent;\n",
              "      border-right-color: var(--fill-color);\n",
              "      border-bottom-color: var(--fill-color);\n",
              "    }\n",
              "    90% {\n",
              "      border-color: transparent;\n",
              "      border-bottom-color: var(--fill-color);\n",
              "    }\n",
              "  }\n",
              "</style>\n",
              "\n",
              "  <script>\n",
              "    async function quickchart(key) {\n",
              "      const quickchartButtonEl =\n",
              "        document.querySelector('#' + key + ' button');\n",
              "      quickchartButtonEl.disabled = true;  // To prevent multiple clicks.\n",
              "      quickchartButtonEl.classList.add('colab-df-spinner');\n",
              "      try {\n",
              "        const charts = await google.colab.kernel.invokeFunction(\n",
              "            'suggestCharts', [key], {});\n",
              "      } catch (error) {\n",
              "        console.error('Error during call to suggestCharts:', error);\n",
              "      }\n",
              "      quickchartButtonEl.classList.remove('colab-df-spinner');\n",
              "      quickchartButtonEl.classList.add('colab-df-quickchart-complete');\n",
              "    }\n",
              "    (() => {\n",
              "      let quickchartButtonEl =\n",
              "        document.querySelector('#df-b07e4785-b967-4b60-ab5f-88caa746a73f button');\n",
              "      quickchartButtonEl.style.display =\n",
              "        google.colab.kernel.accessAllowed ? 'block' : 'none';\n",
              "    })();\n",
              "  </script>\n",
              "</div>\n",
              "    </div>\n",
              "  </div>\n"
            ]
          },
          "metadata": {},
          "execution_count": 3
        }
      ],
      "source": [
        "# Informa a URL de importação do dataset\n",
        "url = \"https://raw.githubusercontent.com/toniobrandao/MVP-Segunda-Sprint-PUC-RIO/main/data/heart.csv\"\n",
        "\n",
        "# Lê o arquivo\n",
        "dataset = pd.read_csv(url, delimiter=',')\n",
        "\n",
        "# Mostra as primeiras linhas do dataset\n",
        "dataset.head(10)"
      ]
    },
    {
      "cell_type": "markdown",
      "metadata": {
        "id": "OikJZo7mWFLk"
      },
      "source": [
        "## 3.0 - Análise prévia do dataset"
      ]
    },
    {
      "cell_type": "markdown",
      "source": [
        "Como o dataset não possui dados faltantes, não será necessário o tratamento de missings. Caso houvessem, poderiam ser corrigidos com o preenchimento com a média, mediana ou moda dos dados ausentes, garantindo a integridade e a utilidade dos dados para análise.\n",
        "\n",
        "\n",
        "\n",
        "\n",
        "\n",
        "\n"
      ],
      "metadata": {
        "id": "GJ_iVEfy8Ns5"
      }
    },
    {
      "cell_type": "code",
      "execution_count": 4,
      "metadata": {
        "colab": {
          "base_uri": "https://localhost:8080/"
        },
        "id": "1UrqzUOXoQSK",
        "outputId": "99105ced-98a9-4d57-fe93-0e4faf86dc28"
      },
      "outputs": [
        {
          "output_type": "stream",
          "name": "stdout",
          "text": [
            "<class 'pandas.core.frame.DataFrame'>\n",
            "RangeIndex: 303 entries, 0 to 302\n",
            "Data columns (total 14 columns):\n",
            " #   Column    Non-Null Count  Dtype  \n",
            "---  ------    --------------  -----  \n",
            " 0   age       303 non-null    int64  \n",
            " 1   sex       303 non-null    int64  \n",
            " 2   cp        303 non-null    int64  \n",
            " 3   trestbps  303 non-null    int64  \n",
            " 4   chol      303 non-null    int64  \n",
            " 5   fbs       303 non-null    int64  \n",
            " 6   restecg   303 non-null    int64  \n",
            " 7   thalach   303 non-null    int64  \n",
            " 8   exang     303 non-null    int64  \n",
            " 9   oldpeak   303 non-null    float64\n",
            " 10  slope     303 non-null    int64  \n",
            " 11  ca        303 non-null    int64  \n",
            " 12  thal      303 non-null    int64  \n",
            " 13  target    303 non-null    int64  \n",
            "dtypes: float64(1), int64(13)\n",
            "memory usage: 33.3 KB\n"
          ]
        }
      ],
      "source": [
        "# Checando o tipo de dado de cada coluna\n",
        "dataset.info()"
      ]
    },
    {
      "cell_type": "code",
      "execution_count": 5,
      "metadata": {
        "colab": {
          "base_uri": "https://localhost:8080/",
          "height": 0
        },
        "id": "-GTSjzXJcfBm",
        "outputId": "caa02b46-a776-4690-e4ec-d9e807abec82"
      },
      "outputs": [
        {
          "output_type": "execute_result",
          "data": {
            "text/plain": [
              "              age         sex          cp    trestbps        chol         fbs  \\\n",
              "count  303.000000  303.000000  303.000000  303.000000  303.000000  303.000000   \n",
              "mean    54.366337    0.683168    0.966997  131.623762  246.264026    0.148515   \n",
              "std      9.082101    0.466011    1.032052   17.538143   51.830751    0.356198   \n",
              "min     29.000000    0.000000    0.000000   94.000000  126.000000    0.000000   \n",
              "25%     47.500000    0.000000    0.000000  120.000000  211.000000    0.000000   \n",
              "50%     55.000000    1.000000    1.000000  130.000000  240.000000    0.000000   \n",
              "75%     61.000000    1.000000    2.000000  140.000000  274.500000    0.000000   \n",
              "max     77.000000    1.000000    3.000000  200.000000  564.000000    1.000000   \n",
              "\n",
              "          restecg     thalach       exang     oldpeak       slope          ca  \\\n",
              "count  303.000000  303.000000  303.000000  303.000000  303.000000  303.000000   \n",
              "mean     0.528053  149.646865    0.326733    1.039604    1.399340    0.729373   \n",
              "std      0.525860   22.905161    0.469794    1.161075    0.616226    1.022606   \n",
              "min      0.000000   71.000000    0.000000    0.000000    0.000000    0.000000   \n",
              "25%      0.000000  133.500000    0.000000    0.000000    1.000000    0.000000   \n",
              "50%      1.000000  153.000000    0.000000    0.800000    1.000000    0.000000   \n",
              "75%      1.000000  166.000000    1.000000    1.600000    2.000000    1.000000   \n",
              "max      2.000000  202.000000    1.000000    6.200000    2.000000    4.000000   \n",
              "\n",
              "             thal      target  \n",
              "count  303.000000  303.000000  \n",
              "mean     2.313531    0.544554  \n",
              "std      0.612277    0.498835  \n",
              "min      0.000000    0.000000  \n",
              "25%      2.000000    0.000000  \n",
              "50%      2.000000    1.000000  \n",
              "75%      3.000000    1.000000  \n",
              "max      3.000000    1.000000  "
            ],
            "text/html": [
              "\n",
              "  <div id=\"df-f5ac467c-4e32-45e8-ba03-36b1f3c241d8\" class=\"colab-df-container\">\n",
              "    <div>\n",
              "<style scoped>\n",
              "    .dataframe tbody tr th:only-of-type {\n",
              "        vertical-align: middle;\n",
              "    }\n",
              "\n",
              "    .dataframe tbody tr th {\n",
              "        vertical-align: top;\n",
              "    }\n",
              "\n",
              "    .dataframe thead th {\n",
              "        text-align: right;\n",
              "    }\n",
              "</style>\n",
              "<table border=\"1\" class=\"dataframe\">\n",
              "  <thead>\n",
              "    <tr style=\"text-align: right;\">\n",
              "      <th></th>\n",
              "      <th>age</th>\n",
              "      <th>sex</th>\n",
              "      <th>cp</th>\n",
              "      <th>trestbps</th>\n",
              "      <th>chol</th>\n",
              "      <th>fbs</th>\n",
              "      <th>restecg</th>\n",
              "      <th>thalach</th>\n",
              "      <th>exang</th>\n",
              "      <th>oldpeak</th>\n",
              "      <th>slope</th>\n",
              "      <th>ca</th>\n",
              "      <th>thal</th>\n",
              "      <th>target</th>\n",
              "    </tr>\n",
              "  </thead>\n",
              "  <tbody>\n",
              "    <tr>\n",
              "      <th>count</th>\n",
              "      <td>303.000000</td>\n",
              "      <td>303.000000</td>\n",
              "      <td>303.000000</td>\n",
              "      <td>303.000000</td>\n",
              "      <td>303.000000</td>\n",
              "      <td>303.000000</td>\n",
              "      <td>303.000000</td>\n",
              "      <td>303.000000</td>\n",
              "      <td>303.000000</td>\n",
              "      <td>303.000000</td>\n",
              "      <td>303.000000</td>\n",
              "      <td>303.000000</td>\n",
              "      <td>303.000000</td>\n",
              "      <td>303.000000</td>\n",
              "    </tr>\n",
              "    <tr>\n",
              "      <th>mean</th>\n",
              "      <td>54.366337</td>\n",
              "      <td>0.683168</td>\n",
              "      <td>0.966997</td>\n",
              "      <td>131.623762</td>\n",
              "      <td>246.264026</td>\n",
              "      <td>0.148515</td>\n",
              "      <td>0.528053</td>\n",
              "      <td>149.646865</td>\n",
              "      <td>0.326733</td>\n",
              "      <td>1.039604</td>\n",
              "      <td>1.399340</td>\n",
              "      <td>0.729373</td>\n",
              "      <td>2.313531</td>\n",
              "      <td>0.544554</td>\n",
              "    </tr>\n",
              "    <tr>\n",
              "      <th>std</th>\n",
              "      <td>9.082101</td>\n",
              "      <td>0.466011</td>\n",
              "      <td>1.032052</td>\n",
              "      <td>17.538143</td>\n",
              "      <td>51.830751</td>\n",
              "      <td>0.356198</td>\n",
              "      <td>0.525860</td>\n",
              "      <td>22.905161</td>\n",
              "      <td>0.469794</td>\n",
              "      <td>1.161075</td>\n",
              "      <td>0.616226</td>\n",
              "      <td>1.022606</td>\n",
              "      <td>0.612277</td>\n",
              "      <td>0.498835</td>\n",
              "    </tr>\n",
              "    <tr>\n",
              "      <th>min</th>\n",
              "      <td>29.000000</td>\n",
              "      <td>0.000000</td>\n",
              "      <td>0.000000</td>\n",
              "      <td>94.000000</td>\n",
              "      <td>126.000000</td>\n",
              "      <td>0.000000</td>\n",
              "      <td>0.000000</td>\n",
              "      <td>71.000000</td>\n",
              "      <td>0.000000</td>\n",
              "      <td>0.000000</td>\n",
              "      <td>0.000000</td>\n",
              "      <td>0.000000</td>\n",
              "      <td>0.000000</td>\n",
              "      <td>0.000000</td>\n",
              "    </tr>\n",
              "    <tr>\n",
              "      <th>25%</th>\n",
              "      <td>47.500000</td>\n",
              "      <td>0.000000</td>\n",
              "      <td>0.000000</td>\n",
              "      <td>120.000000</td>\n",
              "      <td>211.000000</td>\n",
              "      <td>0.000000</td>\n",
              "      <td>0.000000</td>\n",
              "      <td>133.500000</td>\n",
              "      <td>0.000000</td>\n",
              "      <td>0.000000</td>\n",
              "      <td>1.000000</td>\n",
              "      <td>0.000000</td>\n",
              "      <td>2.000000</td>\n",
              "      <td>0.000000</td>\n",
              "    </tr>\n",
              "    <tr>\n",
              "      <th>50%</th>\n",
              "      <td>55.000000</td>\n",
              "      <td>1.000000</td>\n",
              "      <td>1.000000</td>\n",
              "      <td>130.000000</td>\n",
              "      <td>240.000000</td>\n",
              "      <td>0.000000</td>\n",
              "      <td>1.000000</td>\n",
              "      <td>153.000000</td>\n",
              "      <td>0.000000</td>\n",
              "      <td>0.800000</td>\n",
              "      <td>1.000000</td>\n",
              "      <td>0.000000</td>\n",
              "      <td>2.000000</td>\n",
              "      <td>1.000000</td>\n",
              "    </tr>\n",
              "    <tr>\n",
              "      <th>75%</th>\n",
              "      <td>61.000000</td>\n",
              "      <td>1.000000</td>\n",
              "      <td>2.000000</td>\n",
              "      <td>140.000000</td>\n",
              "      <td>274.500000</td>\n",
              "      <td>0.000000</td>\n",
              "      <td>1.000000</td>\n",
              "      <td>166.000000</td>\n",
              "      <td>1.000000</td>\n",
              "      <td>1.600000</td>\n",
              "      <td>2.000000</td>\n",
              "      <td>1.000000</td>\n",
              "      <td>3.000000</td>\n",
              "      <td>1.000000</td>\n",
              "    </tr>\n",
              "    <tr>\n",
              "      <th>max</th>\n",
              "      <td>77.000000</td>\n",
              "      <td>1.000000</td>\n",
              "      <td>3.000000</td>\n",
              "      <td>200.000000</td>\n",
              "      <td>564.000000</td>\n",
              "      <td>1.000000</td>\n",
              "      <td>2.000000</td>\n",
              "      <td>202.000000</td>\n",
              "      <td>1.000000</td>\n",
              "      <td>6.200000</td>\n",
              "      <td>2.000000</td>\n",
              "      <td>4.000000</td>\n",
              "      <td>3.000000</td>\n",
              "      <td>1.000000</td>\n",
              "    </tr>\n",
              "  </tbody>\n",
              "</table>\n",
              "</div>\n",
              "    <div class=\"colab-df-buttons\">\n",
              "\n",
              "  <div class=\"colab-df-container\">\n",
              "    <button class=\"colab-df-convert\" onclick=\"convertToInteractive('df-f5ac467c-4e32-45e8-ba03-36b1f3c241d8')\"\n",
              "            title=\"Convert this dataframe to an interactive table.\"\n",
              "            style=\"display:none;\">\n",
              "\n",
              "  <svg xmlns=\"http://www.w3.org/2000/svg\" height=\"24px\" viewBox=\"0 -960 960 960\">\n",
              "    <path d=\"M120-120v-720h720v720H120Zm60-500h600v-160H180v160Zm220 220h160v-160H400v160Zm0 220h160v-160H400v160ZM180-400h160v-160H180v160Zm440 0h160v-160H620v160ZM180-180h160v-160H180v160Zm440 0h160v-160H620v160Z\"/>\n",
              "  </svg>\n",
              "    </button>\n",
              "\n",
              "  <style>\n",
              "    .colab-df-container {\n",
              "      display:flex;\n",
              "      gap: 12px;\n",
              "    }\n",
              "\n",
              "    .colab-df-convert {\n",
              "      background-color: #E8F0FE;\n",
              "      border: none;\n",
              "      border-radius: 50%;\n",
              "      cursor: pointer;\n",
              "      display: none;\n",
              "      fill: #1967D2;\n",
              "      height: 32px;\n",
              "      padding: 0 0 0 0;\n",
              "      width: 32px;\n",
              "    }\n",
              "\n",
              "    .colab-df-convert:hover {\n",
              "      background-color: #E2EBFA;\n",
              "      box-shadow: 0px 1px 2px rgba(60, 64, 67, 0.3), 0px 1px 3px 1px rgba(60, 64, 67, 0.15);\n",
              "      fill: #174EA6;\n",
              "    }\n",
              "\n",
              "    .colab-df-buttons div {\n",
              "      margin-bottom: 4px;\n",
              "    }\n",
              "\n",
              "    [theme=dark] .colab-df-convert {\n",
              "      background-color: #3B4455;\n",
              "      fill: #D2E3FC;\n",
              "    }\n",
              "\n",
              "    [theme=dark] .colab-df-convert:hover {\n",
              "      background-color: #434B5C;\n",
              "      box-shadow: 0px 1px 3px 1px rgba(0, 0, 0, 0.15);\n",
              "      filter: drop-shadow(0px 1px 2px rgba(0, 0, 0, 0.3));\n",
              "      fill: #FFFFFF;\n",
              "    }\n",
              "  </style>\n",
              "\n",
              "    <script>\n",
              "      const buttonEl =\n",
              "        document.querySelector('#df-f5ac467c-4e32-45e8-ba03-36b1f3c241d8 button.colab-df-convert');\n",
              "      buttonEl.style.display =\n",
              "        google.colab.kernel.accessAllowed ? 'block' : 'none';\n",
              "\n",
              "      async function convertToInteractive(key) {\n",
              "        const element = document.querySelector('#df-f5ac467c-4e32-45e8-ba03-36b1f3c241d8');\n",
              "        const dataTable =\n",
              "          await google.colab.kernel.invokeFunction('convertToInteractive',\n",
              "                                                    [key], {});\n",
              "        if (!dataTable) return;\n",
              "\n",
              "        const docLinkHtml = 'Like what you see? Visit the ' +\n",
              "          '<a target=\"_blank\" href=https://colab.research.google.com/notebooks/data_table.ipynb>data table notebook</a>'\n",
              "          + ' to learn more about interactive tables.';\n",
              "        element.innerHTML = '';\n",
              "        dataTable['output_type'] = 'display_data';\n",
              "        await google.colab.output.renderOutput(dataTable, element);\n",
              "        const docLink = document.createElement('div');\n",
              "        docLink.innerHTML = docLinkHtml;\n",
              "        element.appendChild(docLink);\n",
              "      }\n",
              "    </script>\n",
              "  </div>\n",
              "\n",
              "\n",
              "<div id=\"df-784fff95-ddef-4b56-8035-18a7a8a4a46a\">\n",
              "  <button class=\"colab-df-quickchart\" onclick=\"quickchart('df-784fff95-ddef-4b56-8035-18a7a8a4a46a')\"\n",
              "            title=\"Suggest charts\"\n",
              "            style=\"display:none;\">\n",
              "\n",
              "<svg xmlns=\"http://www.w3.org/2000/svg\" height=\"24px\"viewBox=\"0 0 24 24\"\n",
              "     width=\"24px\">\n",
              "    <g>\n",
              "        <path d=\"M19 3H5c-1.1 0-2 .9-2 2v14c0 1.1.9 2 2 2h14c1.1 0 2-.9 2-2V5c0-1.1-.9-2-2-2zM9 17H7v-7h2v7zm4 0h-2V7h2v10zm4 0h-2v-4h2v4z\"/>\n",
              "    </g>\n",
              "</svg>\n",
              "  </button>\n",
              "\n",
              "<style>\n",
              "  .colab-df-quickchart {\n",
              "      --bg-color: #E8F0FE;\n",
              "      --fill-color: #1967D2;\n",
              "      --hover-bg-color: #E2EBFA;\n",
              "      --hover-fill-color: #174EA6;\n",
              "      --disabled-fill-color: #AAA;\n",
              "      --disabled-bg-color: #DDD;\n",
              "  }\n",
              "\n",
              "  [theme=dark] .colab-df-quickchart {\n",
              "      --bg-color: #3B4455;\n",
              "      --fill-color: #D2E3FC;\n",
              "      --hover-bg-color: #434B5C;\n",
              "      --hover-fill-color: #FFFFFF;\n",
              "      --disabled-bg-color: #3B4455;\n",
              "      --disabled-fill-color: #666;\n",
              "  }\n",
              "\n",
              "  .colab-df-quickchart {\n",
              "    background-color: var(--bg-color);\n",
              "    border: none;\n",
              "    border-radius: 50%;\n",
              "    cursor: pointer;\n",
              "    display: none;\n",
              "    fill: var(--fill-color);\n",
              "    height: 32px;\n",
              "    padding: 0;\n",
              "    width: 32px;\n",
              "  }\n",
              "\n",
              "  .colab-df-quickchart:hover {\n",
              "    background-color: var(--hover-bg-color);\n",
              "    box-shadow: 0 1px 2px rgba(60, 64, 67, 0.3), 0 1px 3px 1px rgba(60, 64, 67, 0.15);\n",
              "    fill: var(--button-hover-fill-color);\n",
              "  }\n",
              "\n",
              "  .colab-df-quickchart-complete:disabled,\n",
              "  .colab-df-quickchart-complete:disabled:hover {\n",
              "    background-color: var(--disabled-bg-color);\n",
              "    fill: var(--disabled-fill-color);\n",
              "    box-shadow: none;\n",
              "  }\n",
              "\n",
              "  .colab-df-spinner {\n",
              "    border: 2px solid var(--fill-color);\n",
              "    border-color: transparent;\n",
              "    border-bottom-color: var(--fill-color);\n",
              "    animation:\n",
              "      spin 1s steps(1) infinite;\n",
              "  }\n",
              "\n",
              "  @keyframes spin {\n",
              "    0% {\n",
              "      border-color: transparent;\n",
              "      border-bottom-color: var(--fill-color);\n",
              "      border-left-color: var(--fill-color);\n",
              "    }\n",
              "    20% {\n",
              "      border-color: transparent;\n",
              "      border-left-color: var(--fill-color);\n",
              "      border-top-color: var(--fill-color);\n",
              "    }\n",
              "    30% {\n",
              "      border-color: transparent;\n",
              "      border-left-color: var(--fill-color);\n",
              "      border-top-color: var(--fill-color);\n",
              "      border-right-color: var(--fill-color);\n",
              "    }\n",
              "    40% {\n",
              "      border-color: transparent;\n",
              "      border-right-color: var(--fill-color);\n",
              "      border-top-color: var(--fill-color);\n",
              "    }\n",
              "    60% {\n",
              "      border-color: transparent;\n",
              "      border-right-color: var(--fill-color);\n",
              "    }\n",
              "    80% {\n",
              "      border-color: transparent;\n",
              "      border-right-color: var(--fill-color);\n",
              "      border-bottom-color: var(--fill-color);\n",
              "    }\n",
              "    90% {\n",
              "      border-color: transparent;\n",
              "      border-bottom-color: var(--fill-color);\n",
              "    }\n",
              "  }\n",
              "</style>\n",
              "\n",
              "  <script>\n",
              "    async function quickchart(key) {\n",
              "      const quickchartButtonEl =\n",
              "        document.querySelector('#' + key + ' button');\n",
              "      quickchartButtonEl.disabled = true;  // To prevent multiple clicks.\n",
              "      quickchartButtonEl.classList.add('colab-df-spinner');\n",
              "      try {\n",
              "        const charts = await google.colab.kernel.invokeFunction(\n",
              "            'suggestCharts', [key], {});\n",
              "      } catch (error) {\n",
              "        console.error('Error during call to suggestCharts:', error);\n",
              "      }\n",
              "      quickchartButtonEl.classList.remove('colab-df-spinner');\n",
              "      quickchartButtonEl.classList.add('colab-df-quickchart-complete');\n",
              "    }\n",
              "    (() => {\n",
              "      let quickchartButtonEl =\n",
              "        document.querySelector('#df-784fff95-ddef-4b56-8035-18a7a8a4a46a button');\n",
              "      quickchartButtonEl.style.display =\n",
              "        google.colab.kernel.accessAllowed ? 'block' : 'none';\n",
              "    })();\n",
              "  </script>\n",
              "</div>\n",
              "    </div>\n",
              "  </div>\n"
            ]
          },
          "metadata": {},
          "execution_count": 5
        }
      ],
      "source": [
        "# Realizando uma análise estatística básica do dataset.\n",
        "dataset.describe()"
      ]
    },
    {
      "cell_type": "markdown",
      "source": [
        "## 4.0 - Separação dos dados em treino e testa com holdout e K-fold *estratificado*"
      ],
      "metadata": {
        "id": "MKTSjlS6RsKK"
      }
    },
    {
      "cell_type": "markdown",
      "source": [
        "Separação inicial dos dados em treino e teste. Além disso, configura-se um método de validação cruzada estratificada (Stratified K-Fold).\n",
        "\n",
        "No método de validação cruzada K-Fold estratificado, os dados são particionados em k folds mantendo a distribuição das classes, onde cada fold é usado para teste enquanto os k-1 restantes são utilizados para treinamento do modelo, permitindo uma avaliação mais robusta e precisa do desempenho.\n",
        "\n",
        "\n",
        "\n",
        "\n",
        "\n"
      ],
      "metadata": {
        "id": "ixYdqQAD859n"
      }
    },
    {
      "cell_type": "code",
      "source": [
        "\n",
        "# Dividindo entre atributos e variável que se deseja predizer (target).\n",
        "X = dataset.drop('target', axis=1)  # Atributor\n",
        "y = dataset['target']  # Variável target\n",
        "\n",
        "#determinando uma seed para que o teste randômico retorne sempre o mesmo resultado.\n",
        "seed = 7\n",
        "\n",
        "# Dividindo os dados em treino e teste com holdout.\n",
        "X_train, X_test, y_train, y_test = train_test_split(X, y, test_size=0.2, random_state=seed)\n",
        "\n",
        "# Parâmetros e partições da validação cruzada\n",
        "scoring = 'accuracy'\n",
        "num_particoes = 7\n",
        "kfold = StratifiedKFold(n_splits=num_particoes, shuffle=True, random_state=seed) # validação cruzada com estratificação"
      ],
      "metadata": {
        "id": "KLV779caEUTj"
      },
      "execution_count": 6,
      "outputs": []
    },
    {
      "cell_type": "markdown",
      "source": [
        "## 5.0 - Modelagem e Inferência"
      ],
      "metadata": {
        "id": "iHCxkjLqRZs1"
      }
    },
    {
      "cell_type": "markdown",
      "source": [
        "Nessa etapa é aplicado ao dataset os diversos modelos vistos na disciplina Engenharia de Software para sistemas inteligentes, como o KNN, CART, SVM e NB Gaussiano. Após a aplicação dos modelos, há a otimização de seus hiperparâmetros para a escolha do melhor modelo de classificação para o dataset."
      ],
      "metadata": {
        "id": "io7sMSDHen2n"
      }
    },
    {
      "cell_type": "markdown",
      "metadata": {
        "id": "5sEVdqKfSQQB"
      },
      "source": [
        "### 5.1 - Avaliação preliminar dos modelos"
      ]
    },
    {
      "cell_type": "markdown",
      "source": [
        "Análise inicial com objetivo de realizar uma comparação preliminar do desempenho dos modelos antes da padronização, normalização dos dados e ajuste dos hiperparâmetros.\n",
        "\n",
        "A partir do boxplot abaixo, pode-se notar que os modelos que obtiveram o melhor desempenho preliminar foram o Naive Bayes Gassiano e o Classification and Regression Tree.\n",
        "\n",
        "O modelo **Naive Bayes Gaussiano** assume uma distribuição normal dos atributos. Tal afirmação faz sentido para alguns dos atributos do dataset, por conta de sua natureza fisiológica, como idade, pressão arterial em repouso, colesterol e  batimentos cardíacos máximos por minuto.. Entretanto, o modelo também implica uma independência condiconal entre as variáveis. O que é uma hipótese irrealista dado que, por exemplo, a relação entre pessão arterial em repouso, glicose e colesterol e número de batimentos cardíacos máximos por minuto.\n",
        "\n",
        "Para o modelo de **Classification and Regression Tree (CART)** possui uma vantagem em relação à capacidade de encontrar padrões complexos e relações não lineares entre as múltiplas variáveis do dataset, tais como idade, pressão arterial e níveis de colesterol. Entretanto, o modelo é propenso ao overfitting dos dados, o que ocorre quando o modelo é excessivamente adequado para os dados em que foram treinados. Como o dataset possui somente 303 instâncias, o overfitting pode também ser um problema para a sua aplicação.\n"
      ],
      "metadata": {
        "id": "SW4UHpO2JBNh"
      }
    },
    {
      "cell_type": "code",
      "execution_count": 7,
      "metadata": {
        "colab": {
          "base_uri": "https://localhost:8080/",
          "height": 1000
        },
        "id": "uxlNf-CwSWc8",
        "outputId": "6e68564e-bbaa-4281-d8e9-6b8e88fb8d24"
      },
      "outputs": [
        {
          "output_type": "stream",
          "name": "stdout",
          "text": [
            "KNN: 0.661585 (0.054369)\n",
            "CART: 0.806242 (0.068479)\n",
            "NB: 0.810324 (0.049333)\n",
            "SVM: 0.649340 (0.074813)\n"
          ]
        },
        {
          "output_type": "display_data",
          "data": {
            "text/plain": [
              "<Figure size 1500x1000 with 1 Axes>"
            ],
            "image/png": "[encoded data removed]"
          },
          "metadata": {}
        }
      ],
      "source": [
        "\n",
        "np.random.seed(7)\n",
        "# Defining models\n",
        "models = []\n",
        "models.append(('KNN', KNeighborsClassifier()))\n",
        "models.append(('CART', DecisionTreeClassifier()))\n",
        "models.append(('NB', GaussianNB()))\n",
        "models.append(('SVM', SVC()))\n",
        "\n",
        "# List to store results\n",
        "results = []\n",
        "names = []\n",
        "\n",
        "# Evaluating models\n",
        "for name, model in models:\n",
        "    cv_results = cross_val_score(model, X_train, y_train, cv=7)\n",
        "    results.append(cv_results)\n",
        "    names.append(name)\n",
        "    msg = \"%s: %f (%f)\" % (name, cv_results.mean(), cv_results.std())\n",
        "    print(msg)\n",
        "\n",
        "\n",
        "# Boxplot de comparação dos modelos\n",
        "fig = plt.figure(figsize=(15,10))\n",
        "fig.suptitle('Comparação dos Modelos')\n",
        "ax = fig.add_subplot(111)\n",
        "plt.boxplot(results)\n",
        "ax.set_xticklabels(names)\n",
        "plt.show()"
      ]
    },
    {
      "cell_type": "markdown",
      "source": [
        "### 5.2 - Avaliação dos modelos com dados padronizados e normalizados"
      ],
      "metadata": {
        "id": "tvQf3A-QSEzy"
      }
    },
    {
      "cell_type": "markdown",
      "source": [
        "A padronização e a normalização dos dados é feita em modelos de machine learning para garantir que todas as características tenham a mesma escala, evitando que algumas variáveis dominem outras devido à diferença na ordem de grandeza.\n",
        "\n",
        "A padronização reescala as variáveis para que tenham média zero e desvio padrão um. A normalização redimensiona os valores das variáveis para um intervalo de zero a um.\n",
        "\n",
        "O efeito desse pré-processamento de dados é relevante em algoritmos sensíveis à escala das características, como K-Nearest Neighbors (KNN) e Support Vector Machines (SVM). A partir dos resultados encontrados, podemos notar que o desempenho dos modelos de KNN e SVM aumentou signifativamente após o pré-processamento.\n",
        "\n"
      ],
      "metadata": {
        "id": "3FWf86Z4VjZY"
      }
    },
    {
      "cell_type": "code",
      "source": [
        "np.random.seed(7) # definindo uma semente global para este bloco\n",
        "\n",
        "# Listas para armazenar os armazenar os pipelines e os resultados para todas as visões do dataset\n",
        "pipelines = []\n",
        "results = []\n",
        "names = []\n",
        "\n",
        "\n",
        "# Criando os elementos do pipeline\n",
        "\n",
        "# Algoritmos que serão utilizados\n",
        "knn = ('KNN', KNeighborsClassifier())\n",
        "cart = ('CART', DecisionTreeClassifier())\n",
        "naive_bayes = ('NB', GaussianNB())\n",
        "svm = ('SVM', SVC())\n",
        "\n",
        "# Transformações que serão utilizadas\n",
        "standard_scaler = ('StandardScaler', StandardScaler())\n",
        "min_max_scaler = ('MinMaxScaler', MinMaxScaler())\n",
        "\n",
        "\n",
        "# Montando os pipelines\n",
        "\n",
        "# Dataset original\n",
        "pipelines.append(('KNN-orig', Pipeline([knn])))\n",
        "pipelines.append(('CART-orig', Pipeline([cart])))\n",
        "pipelines.append(('NB-orig', Pipeline([naive_bayes])))\n",
        "pipelines.append(('SVM-orig', Pipeline([svm])))\n",
        "\n",
        "# Dataset Padronizado\n",
        "pipelines.append(('KNN-padr', Pipeline([standard_scaler, knn])))\n",
        "pipelines.append(('CART-padr', Pipeline([standard_scaler, cart])))\n",
        "pipelines.append(('NB-padr', Pipeline([standard_scaler, naive_bayes])))\n",
        "pipelines.append(('SVM-padr', Pipeline([standard_scaler, svm])))\n",
        "\n",
        "# Dataset Normalizado\n",
        "pipelines.append(('KNN-norm', Pipeline([min_max_scaler, knn])))\n",
        "pipelines.append(('CART-norm', Pipeline([min_max_scaler, cart])))\n",
        "pipelines.append(('NB-norm', Pipeline([min_max_scaler, naive_bayes])))\n",
        "pipelines.append(('SVM-norm', Pipeline([min_max_scaler, svm])))\n",
        "\n",
        "# Executando os pipelines\n",
        "for name, model in pipelines:\n",
        "    cv_results = cross_val_score(model, X_train, y_train, cv=kfold, scoring=scoring)\n",
        "    results.append(cv_results)\n",
        "    names.append(name)\n",
        "    msg = \"%s: %.3f (%.3f)\" % (name, cv_results.mean(), cv_results.std()) # formatando para 3 casas decimais\n",
        "    print(msg)\n",
        "\n",
        "# Boxplot de comparação dos modelos\n",
        "fig = plt.figure(figsize=(25,6))\n",
        "fig.suptitle('Comparação dos Modelos - Dataset orginal, padronizado e normalizado')\n",
        "ax = fig.add_subplot(111)\n",
        "plt.boxplot(results)\n",
        "ax.set_xticklabels(names, rotation=90)\n",
        "plt.show()"
      ],
      "metadata": {
        "colab": {
          "base_uri": "https://localhost:8080/",
          "height": 870
        },
        "id": "7V1D_OX8EMP_",
        "outputId": "431cce13-0152-481d-9237-0f64d07d4e91"
      },
      "execution_count": 8,
      "outputs": [
        {
          "output_type": "stream",
          "name": "stdout",
          "text": [
            "KNN-orig: 0.665 (0.074)\n",
            "CART-orig: 0.780 (0.060)\n",
            "NB-orig: 0.843 (0.048)\n",
            "SVM-orig: 0.674 (0.067)\n",
            "KNN-padr: 0.871 (0.050)\n",
            "CART-padr: 0.788 (0.076)\n",
            "NB-padr: 0.843 (0.048)\n",
            "SVM-padr: 0.855 (0.045)\n",
            "KNN-norm: 0.814 (0.067)\n",
            "CART-norm: 0.785 (0.053)\n",
            "NB-norm: 0.843 (0.048)\n",
            "SVM-norm: 0.851 (0.033)\n"
          ]
        },
        {
          "output_type": "display_data",
          "data": {
            "text/plain": [
              "<Figure size 2500x600 with 1 Axes>"
            ],
            "image/png": "[encoded data removed]"
          },
          "metadata": {}
        }
      ]
    },
    {
      "cell_type": "markdown",
      "source": [
        "### 5.3 Otimização dos hiperparâmetros"
      ],
      "metadata": {
        "id": "SnQnilcOSJu2"
      }
    },
    {
      "cell_type": "markdown",
      "source": [
        "Para cada modelo, seus hiperparâmetros são ajustados para encontrar o melhor resultado.\n",
        "\n",
        "Foram utilizados os pipelines, que são sequências organizadas de etapas que incluem pré-processamento, transformações e modelagem de dados.\n",
        "O uso de pipelines ajuda a evitar o data leakage ao organizar e separar as etapas de pré-processamento e modelagem de forma apropriada. O data leakage (vazamento de dados) ocorre quando informações do conjunto de teste ou de validação são utilizadas indevidamente durante o treinamento do modelo."
      ],
      "metadata": {
        "id": "jrt_DjBOfCGD"
      }
    },
    {
      "cell_type": "markdown",
      "source": [
        "#### K-Nearest Neighbors (KNN)"
      ],
      "metadata": {
        "id": "J5USZAVGnqGV"
      }
    },
    {
      "cell_type": "markdown",
      "source": [
        "Para o K-Nearest Neighbors, os hiperparâmetros ajustados foram o numero de vizinhos próximos e a  métrica de distância mais apropriada para calcular a similaridade entre os pontos (Euclideana, Manhattan e Minkowski).\n",
        "\n",
        "\n",
        "**Euclidiana:** Calcula a distância entre dois pontos no espaço como a linha reta, utilizando o teorema de Pitágoras, sendo o teorema de pirágoras adaptado para a dimensão do espaço das variáveis. A distância euclideana é útil quando todas as dimensões possuem importância semelhante para a análise.\n",
        "\n",
        "**Manhattan:** Mede a distância entre dois pontos percorrendo as dimensões ortogonais, somando as diferenças absolutas entre elas. No espaço bidimensional seria: Distância = |X2-X1| + |Y2-Y1|. A métrica de distância Manhattan é vantajosa porque pode excluir distâncias com valores extremamente diferentes em um ou mais atributos (X ou Y, por exemplo), ajudando a focar nas diferenças mais relevantes em cada dimensão de forma mais direta.\n",
        "\n",
        "**Minkowski:** Uma métrica de distância generalizada que inclui a Euclidiana e a Manhattan como casos especiais; seu parâmetro pode variar para adaptar a fórmula."
      ],
      "metadata": {
        "id": "5yg2CCrs1Fqf"
      }
    },
    {
      "cell_type": "code",
      "source": [
        "# Tuning do KNN\n",
        "\n",
        "np.random.seed(7) # definindo uma semente global para este bloco\n",
        "\n",
        "pipelines = []\n",
        "\n",
        "# Definindo os componentes do pipeline\n",
        "knn = ('KNN', KNeighborsClassifier())\n",
        "standard_scaler = ('StandardScaler', StandardScaler())\n",
        "min_max_scaler = ('MinMaxScaler', MinMaxScaler())\n",
        "\n",
        "pipelines.append(('knn-orig', Pipeline(steps=[knn])))\n",
        "pipelines.append(('knn-padr', Pipeline(steps=[standard_scaler, knn])))\n",
        "pipelines.append(('knn-norm', Pipeline(steps=[min_max_scaler, knn])))\n",
        "\n",
        "param_grid = {\n",
        "    'KNN__n_neighbors': [1,3,5,7,9,11,13,15,17,19,21,23],\n",
        "    'KNN__metric': [\"euclidean\", \"manhattan\", \"minkowski\"],\n",
        "}\n",
        "\n",
        "# Prepara e executa o GridSearchCV\n",
        "for name, model in pipelines:\n",
        "    grid = GridSearchCV(estimator=model, param_grid=param_grid, scoring=scoring, cv=kfold)\n",
        "    grid.fit(X_train, y_train)\n",
        "    # imprime a melhor configuração\n",
        "    print(\"%s - Melhor: %f usando %s\" % (name, grid.best_score_, grid.best_params_))"
      ],
      "metadata": {
        "colab": {
          "base_uri": "https://localhost:8080/"
        },
        "id": "aormHb7nFLVD",
        "outputId": "e9de821c-0845-4652-e00d-233f51d83196"
      },
      "execution_count": 9,
      "outputs": [
        {
          "output_type": "stream",
          "name": "stdout",
          "text": [
            "knn-orig - Melhor: 0.694358 usando {'KNN__metric': 'manhattan', 'KNN__n_neighbors': 21}\n",
            "knn-padr - Melhor: 0.871909 usando {'KNN__metric': 'euclidean', 'KNN__n_neighbors': 7}\n",
            "knn-norm - Melhor: 0.851020 usando {'KNN__metric': 'manhattan', 'KNN__n_neighbors': 9}\n"
          ]
        }
      ]
    },
    {
      "cell_type": "markdown",
      "source": [
        "#### Classification and Regression Tree (CART)"
      ],
      "metadata": {
        "id": "DcrRKJ-hoHZB"
      }
    },
    {
      "cell_type": "markdown",
      "source": [
        "Para o Classification and Regression Tree (CART), os hiperparâmetros ajustados foram a dimensão da árvore e o número mínimo de amostras para dividir um nó inteiro (min_samples_split).\n",
        "\n",
        " A dimensão se refere ao número de nós em cada nível da árvore. Quanto mais profunda a árvore, mais nós ela terá, o que aumenta a complexidade e a capacidade de se ajustar aos dados.\n",
        "\n",
        " O parâmetro min_samples_split define o número mínimo de amostras necessárias para dividir um nó interno, ou seja, se o número de amostras em um nó é menor do que esse valor, a divisão não será realizada, o que pode ajudar a controlar o crescimento excessivo da árvore."
      ],
      "metadata": {
        "id": "tW11MoMp5AgX"
      }
    },
    {
      "cell_type": "code",
      "source": [
        "from sklearn.tree import DecisionTreeClassifier, DecisionTreeRegressor\n",
        "\n",
        "np.random.seed(7)  # Definindo uma semente global para este bloco\n",
        "\n",
        "pipelines = []\n",
        "\n",
        "# Definindo os componentes do pipeline\n",
        "cart = ('CART', DecisionTreeClassifier())\n",
        "\n",
        "\n",
        "pipelines.append(('cart-orig', Pipeline(steps=[cart])))\n",
        "\n",
        "param_grid = {\n",
        "    'CART__max_depth': [1,2,3,4,5,6,7,8,9,10],\n",
        "    'CART__min_samples_split': [2, 5, 10],\n",
        "}\n",
        "\n",
        "# Prepara e executa o GridSearchCV\n",
        "for name, model in pipelines:\n",
        "    grid = GridSearchCV(estimator=model, param_grid=param_grid, scoring=scoring, cv=kfold)\n",
        "    grid.fit(X_train, y_train)\n",
        "    # Imprime a melhor configuração\n",
        "    print(\"%s - Melhor: %f usando %s\" % (name, grid.best_score_, grid.best_params_))\n"
      ],
      "metadata": {
        "colab": {
          "base_uri": "https://localhost:8080/"
        },
        "id": "simKD7oWogxa",
        "outputId": "3f6069de-b256-4c2c-e3ea-0f354873c0c5"
      },
      "execution_count": 10,
      "outputs": [
        {
          "output_type": "stream",
          "name": "stdout",
          "text": [
            "cart-orig - Melhor: 0.809244 usando {'CART__max_depth': 4, 'CART__min_samples_split': 5}\n"
          ]
        }
      ]
    },
    {
      "cell_type": "markdown",
      "source": [
        "#### Naive Bayes Gaussiano (NB)"
      ],
      "metadata": {
        "id": "UacH5Kt40fnp"
      }
    },
    {
      "cell_type": "markdown",
      "source": [
        "Para o Naive Bayes Gaussiano, o hiperparâmetro ajustado foi o valor de suavização (smoothing), var_smoothing.\n",
        "\n",
        "O **var_smoothing** no Naive Bayes gaussiano suaviza a estimativa da variância para tornar as previsões mais estáveis em situações incomuns ou com poucos dados."
      ],
      "metadata": {
        "id": "22mxxBtv50CL"
      }
    },
    {
      "cell_type": "code",
      "source": [
        "from sklearn.naive_bayes import GaussianNB\n",
        "\n",
        "np.random.seed(7)  # Definindo uma semente global para este bloco\n",
        "\n",
        "pipelines = []\n",
        "\n",
        "# Definindo os componentes do pipeline\n",
        "nb = ('NaiveBayes', GaussianNB())\n",
        "\n",
        "pipelines.append(('nb-orig', Pipeline(steps=[nb])))\n",
        "\n",
        "param_grid = {\n",
        "    # Aqui, pode-se considerar apenas o parâmetro 'var_smoothing', que é o valor de suavização (smoothing).\n",
        "    'NaiveBayes__var_smoothing': [1e-9, 1e-8, 1e-7, 1e-6, 1e-5],\n",
        "}\n",
        "\n",
        "# Prepara e executa o GridSearchCV\n",
        "for name, model in pipelines:\n",
        "    grid = GridSearchCV(estimator=model, param_grid=param_grid, scoring=scoring, cv=kfold)\n",
        "    grid.fit(X_train, y_train)\n",
        "    # Imprime a melhor configuração\n",
        "    print(\"%s - Melhor: %f usando %s\" % (name, grid.best_score_, grid.best_params_))\n"
      ],
      "metadata": {
        "colab": {
          "base_uri": "https://localhost:8080/"
        },
        "id": "TPu-MBDlqDYB",
        "outputId": "312d4068-534e-4418-eb7e-03b48d4e1517"
      },
      "execution_count": 11,
      "outputs": [
        {
          "output_type": "stream",
          "name": "stdout",
          "text": [
            "nb-orig - Melhor: 0.846939 usando {'NaiveBayes__var_smoothing': 1e-05}\n"
          ]
        }
      ]
    },
    {
      "cell_type": "markdown",
      "source": [
        "#### Support Vector Machine (SVM)."
      ],
      "metadata": {
        "id": "Bn0wXVka0plK"
      }
    },
    {
      "cell_type": "markdown",
      "source": [
        "Para o Support Vector Machine (SVM), os hiperparâmetros ajustados foram o parâmetro de regularização C e o tipo de kernel.\n",
        "O parâmetro de regularização C em SVM (Support Vector Machine) controla a penalidade por classificar incorretamente pontos de dados.\n",
        "\n",
        "O tipo de kernel em um SVM determina a maneira como os dados são transformados para encontrar um limite de decisão entre classes.\n",
        "\n",
        "**Kernel Linear:** Cria uma fronteira de decisão reta entre dados.\n",
        "\n",
        "**Kernel Polinomial:** Mapeia dados em um espaço de dimensão superior usando um polinômio.\n",
        "\n",
        "**Kernel RBF (Função de Base Radial):** Transforma os dados em um espaço de dimensão infinita usando uma função gaussiana.\n",
        "\n",
        "**Kernel Sigmóide:** Similar a uma função de ativação, útil para lidar com problemas não lineares, mas menos comum que os outros kernels.\n",
        "\n"
      ],
      "metadata": {
        "id": "aVpBrFSF7D80"
      }
    },
    {
      "cell_type": "code",
      "source": [
        "np.random.seed(7)  # Definindo uma semente global para este bloco\n",
        "\n",
        "pipelines = []\n",
        "\n",
        "# Definindo os componentes do pipeline\n",
        "svm = ('SVM', SVC())\n",
        "\n",
        "pipelines.append(('svm-orig', Pipeline(steps=[svm])))\n",
        "pipelines.append(('svm-padr', Pipeline(steps=[('scaler', StandardScaler()), svm])))\n",
        "pipelines.append(('svm-norm', Pipeline(steps=[('scaler', MinMaxScaler()), svm])))\n",
        "\n",
        "param_grid = {\n",
        "    'SVM__C': [0.1, 1, 10, 100],  # Parâmetro de regularização C\n",
        "    'SVM__kernel': ['linear', 'poly', 'rbf', 'sigmoid'],  # Tipo de kernel\n",
        "}\n",
        "\n",
        "# Prepara e executa o GridSearchCV\n",
        "for name, model in pipelines:\n",
        "    grid = GridSearchCV(estimator=model, param_grid=param_grid, scoring=scoring, cv=kfold)\n",
        "    grid.fit(X_train, y_train)\n",
        "    # Imprime a melhor configuração\n",
        "    print(\"%s - Melhor: %f usando %s\" % (name, grid.best_score_, grid.best_params_))\n"
      ],
      "metadata": {
        "colab": {
          "base_uri": "https://localhost:8080/"
        },
        "id": "bMMi7JzRqPwI",
        "outputId": "e8931cc8-4042-4766-a3f4-8c63fb65611e"
      },
      "execution_count": 13,
      "outputs": [
        {
          "output_type": "stream",
          "name": "stdout",
          "text": [
            "svm-orig - Melhor: 0.863145 usando {'SVM__C': 1, 'SVM__kernel': 'linear'}\n",
            "svm-padr - Melhor: 0.871549 usando {'SVM__C': 0.1, 'SVM__kernel': 'linear'}\n",
            "svm-norm - Melhor: 0.867347 usando {'SVM__C': 1, 'SVM__kernel': 'linear'}\n"
          ]
        }
      ]
    },
    {
      "cell_type": "markdown",
      "source": [
        "## 6.0 Finalização do Modelo"
      ],
      "metadata": {
        "id": "bKtNflSfST05"
      }
    },
    {
      "cell_type": "markdown",
      "source": [
        "Nesta sessão é feita a finalização do modelo e o teste com dados não vistos. O modelo escolhido foi o K-Nearest Neighbors, por apresentar o melhor desempenho e pela sua habilidade de idenficar padrões não lineares e a falta de suposições sobre a distribuição dos dados."
      ],
      "metadata": {
        "id": "m8mxVKb0hFZx"
      }
    },
    {
      "cell_type": "markdown",
      "source": [
        "### 6.1 Criação do modelo"
      ],
      "metadata": {
        "id": "fqIo4P51mSEm"
      }
    },
    {
      "cell_type": "code",
      "source": [
        "# Avaliação do modelo com o conjunto de testes\n",
        "\n",
        "# Preparação do modelo\n",
        "scaler = StandardScaler().fit(X_train) # ajuste do scaler com o conjunto de treino\n",
        "rescaledX = scaler.transform(X_train) # aplicação da padronização no conjunto de treino\n",
        "model = KNeighborsClassifier(metric='euclidean', n_neighbors=7)\n",
        "model.fit(rescaledX, y_train)\n",
        "\n",
        "# Estimativa da acurácia no conjunto de teste\n",
        "rescaledTestX = scaler.transform(X_test) # aplicação da padronização no conjunto de teste\n",
        "predictions = model.predict(rescaledTestX)\n",
        "print(accuracy_score(y_test, predictions))"
      ],
      "metadata": {
        "colab": {
          "base_uri": "https://localhost:8080/"
        },
        "id": "NzCdGEBrSMAJ",
        "outputId": "ac8001ab-7b3c-4388-d655-cb6d13de4dea"
      },
      "execution_count": 17,
      "outputs": [
        {
          "output_type": "stream",
          "name": "stdout",
          "text": [
            "0.7540983606557377\n"
          ]
        }
      ]
    },
    {
      "cell_type": "code",
      "source": [
        "# Preparação do modelo com TODO o dataset\n",
        "scaler = StandardScaler().fit(X) # ajuste do scaler com TODO o dataset\n",
        "rescaledX = scaler.transform(X) # aplicação da padronização com TODO o dataset\n",
        "model.fit(rescaledX, y)"
      ],
      "metadata": {
        "colab": {
          "base_uri": "https://localhost:8080/",
          "height": 76
        },
        "id": "SVjANFKxSZ-m",
        "outputId": "dc1dc90c-b32f-45dd-84c3-249b694d6b54"
      },
      "execution_count": 18,
      "outputs": [
        {
          "output_type": "execute_result",
          "data": {
            "text/plain": [
              "KNeighborsClassifier(metric='euclidean', n_neighbors=7)"
            ],
            "text/html": [
              "<style>#sk-container-id-2 {color: black;background-color: white;}#sk-container-id-2 pre{padding: 0;}#sk-container-id-2 div.sk-toggleable {background-color: white;}#sk-container-id-2 label.sk-toggleable__label {cursor: pointer;display: block;width: 100%;margin-bottom: 0;padding: 0.3em;box-sizing: border-box;text-align: center;}#sk-container-id-2 label.sk-toggleable__label-arrow:before {content: \"▸\";float: left;margin-right: 0.25em;color: #696969;}#sk-container-id-2 label.sk-toggleable__label-arrow:hover:before {color: black;}#sk-container-id-2 div.sk-estimator:hover label.sk-toggleable__label-arrow:before {color: black;}#sk-container-id-2 div.sk-toggleable__content {max-height: 0;max-width: 0;overflow: hidden;text-align: left;background-color: #f0f8ff;}#sk-container-id-2 div.sk-toggleable__content pre {margin: 0.2em;color: black;border-radius: 0.25em;background-color: #f0f8ff;}#sk-container-id-2 input.sk-toggleable__control:checked~div.sk-toggleable__content {max-height: 200px;max-width: 100%;overflow: auto;}#sk-container-id-2 input.sk-toggleable__control:checked~label.sk-toggleable__label-arrow:before {content: \"▾\";}#sk-container-id-2 div.sk-estimator input.sk-toggleable__control:checked~label.sk-toggleable__label {background-color: #d4ebff;}#sk-container-id-2 div.sk-label input.sk-toggleable__control:checked~label.sk-toggleable__label {background-color: #d4ebff;}#sk-container-id-2 input.sk-hidden--visually {border: 0;clip: rect(1px 1px 1px 1px);clip: rect(1px, 1px, 1px, 1px);height: 1px;margin: -1px;overflow: hidden;padding: 0;position: absolute;width: 1px;}#sk-container-id-2 div.sk-estimator {font-family: monospace;background-color: #f0f8ff;border: 1px dotted black;border-radius: 0.25em;box-sizing: border-box;margin-bottom: 0.5em;}#sk-container-id-2 div.sk-estimator:hover {background-color: #d4ebff;}#sk-container-id-2 div.sk-parallel-item::after {content: \"\";width: 100%;border-bottom: 1px solid gray;flex-grow: 1;}#sk-container-id-2 div.sk-label:hover label.sk-toggleable__label {background-color: #d4ebff;}#sk-container-id-2 div.sk-serial::before {content: \"\";position: absolute;border-left: 1px solid gray;box-sizing: border-box;top: 0;bottom: 0;left: 50%;z-index: 0;}#sk-container-id-2 div.sk-serial {display: flex;flex-direction: column;align-items: center;background-color: white;padding-right: 0.2em;padding-left: 0.2em;position: relative;}#sk-container-id-2 div.sk-item {position: relative;z-index: 1;}#sk-container-id-2 div.sk-parallel {display: flex;align-items: stretch;justify-content: center;background-color: white;position: relative;}#sk-container-id-2 div.sk-item::before, #sk-container-id-2 div.sk-parallel-item::before {content: \"\";position: absolute;border-left: 1px solid gray;box-sizing: border-box;top: 0;bottom: 0;left: 50%;z-index: -1;}#sk-container-id-2 div.sk-parallel-item {display: flex;flex-direction: column;z-index: 1;position: relative;background-color: white;}#sk-container-id-2 div.sk-parallel-item:first-child::after {align-self: flex-end;width: 50%;}#sk-container-id-2 div.sk-parallel-item:last-child::after {align-self: flex-start;width: 50%;}#sk-container-id-2 div.sk-parallel-item:only-child::after {width: 0;}#sk-container-id-2 div.sk-dashed-wrapped {border: 1px dashed gray;margin: 0 0.4em 0.5em 0.4em;box-sizing: border-box;padding-bottom: 0.4em;background-color: white;}#sk-container-id-2 div.sk-label label {font-family: monospace;font-weight: bold;display: inline-block;line-height: 1.2em;}#sk-container-id-2 div.sk-label-container {text-align: center;}#sk-container-id-2 div.sk-container {/* jupyter's `normalize.less` sets `[hidden] { display: none; }` but bootstrap.min.css set `[hidden] { display: none !important; }` so we also need the `!important` here to be able to override the default hidden behavior on the sphinx rendered scikit-learn.org. See: https://github.com/scikit-learn/scikit-learn/issues/21755 */display: inline-block !important;position: relative;}#sk-container-id-2 div.sk-text-repr-fallback {display: none;}</style><div id=\"sk-container-id-2\" class=\"sk-top-container\"><div class=\"sk-text-repr-fallback\"><pre>KNeighborsClassifier(metric=&#x27;euclidean&#x27;, n_neighbors=7)</pre><b>In a Jupyter environment, please rerun this cell to show the HTML representation or trust the notebook. <br />On GitHub, the HTML representation is unable to render, please try loading this page with nbviewer.org.</b></div><div class=\"sk-container\" hidden><div class=\"sk-item\"><div class=\"sk-estimator sk-toggleable\"><input class=\"sk-toggleable__control sk-hidden--visually\" id=\"sk-estimator-id-2\" type=\"checkbox\" checked><label for=\"sk-estimator-id-2\" class=\"sk-toggleable__label sk-toggleable__label-arrow\">KNeighborsClassifier</label><div class=\"sk-toggleable__content\"><pre>KNeighborsClassifier(metric=&#x27;euclidean&#x27;, n_neighbors=7)</pre></div></div></div></div></div>"
            ]
          },
          "metadata": {},
          "execution_count": 18
        }
      ]
    },
    {
      "cell_type": "markdown",
      "source": [
        "### 6.2 Simulando a aplicação do modelo em dados não vistos"
      ],
      "metadata": {
        "id": "yXbzavByShIp"
      }
    },
    {
      "cell_type": "markdown",
      "source": [
        "Simulando a aplicação do modelo e sua predição com dados que não estão presentes no dataset."
      ],
      "metadata": {
        "id": "Xvxaafi1ifGt"
      }
    },
    {
      "cell_type": "code",
      "source": [
        "data = {\n",
        "    'age': [67, 45, 58, 51, 64, 39],\n",
        "    'sex': [1, 0, 1, 0, 1, 0],\n",
        "    'cp': [0, 2, 1, 3, 0, 1],\n",
        "    'trestbps': [150, 130, 140, 138, 125, 128],\n",
        "    'chol': [60, 210, 185, 220, 190, 200],\n",
        "    'fbs': [122, 130, 115, 135, 128, 120],\n",
        "    'restecg': [2, 1, 0, 2, 1, 2],\n",
        "    'thalach': [200, 170, 160, 155, 175, 180],\n",
        "    'exang': [1, 0, 1, 0, 1, 0],\n",
        "    'oldpeak': [2.5, 1.5, 0.8, 1.2, 1.9, 0.5],\n",
        "    'slope': [2, 1, 0, 2, 1, 0],\n",
        "    'ca': [3, 2, 1, 0, 2, 1],\n",
        "    'thal': [7, 3, 1, 6, 3, 1],\n",
        "}\n",
        "\n",
        "entrada = pd.DataFrame(data)\n",
        "\n",
        "array_entrada = entrada.values\n",
        "X_entrada = array_entrada[:,0:13].astype(float)\n",
        "\n",
        "# Padronização nos dados de entrada usando o scaler utilizado em X\n",
        "rescaledEntradaX = scaler.transform(X_entrada)"
      ],
      "metadata": {
        "colab": {
          "base_uri": "https://localhost:8080/"
        },
        "id": "TUZyxVr1Sia8",
        "outputId": "4eb0754c-eb6c-4526-e7fb-b1bcf12d572a"
      },
      "execution_count": 19,
      "outputs": [
        {
          "output_type": "stream",
          "name": "stderr",
          "text": [
            "/usr/local/lib/python3.10/dist-packages/sklearn/base.py:439: UserWarning: X does not have valid feature names, but StandardScaler was fitted with feature names\n",
            "  warnings.warn(\n"
          ]
        }
      ]
    },
    {
      "cell_type": "code",
      "source": [
        "# Predição de classes dos dados de entrada\n",
        "saidas = model.predict(rescaledEntradaX)\n",
        "print(saidas)"
      ],
      "metadata": {
        "colab": {
          "base_uri": "https://localhost:8080/"
        },
        "id": "Dh-JAxbISqLi",
        "outputId": "608b23cf-4e9e-488d-8f17-dcdd07eefe04"
      },
      "execution_count": 20,
      "outputs": [
        {
          "output_type": "stream",
          "name": "stdout",
          "text": [
            "[0 1 0 1 0 1]\n"
          ]
        }
      ]
    },
    {
      "cell_type": "markdown",
      "source": [
        "## 7.0 Exportação do modelo resultante"
      ],
      "metadata": {
        "id": "6nYboIx_j7vg"
      }
    },
    {
      "cell_type": "markdown",
      "source": [
        "Nessa etapa é feita a carga do modelo em um arquivo, que será utilizado pelo nosso back-end para fazer as previsões de saída a partir dos novos dados de entrada informados pelo front-end."
      ],
      "metadata": {
        "id": "puZaVgNTlrG3"
      }
    },
    {
      "cell_type": "markdown",
      "source": [
        "### 7.1 Salvando o modelo utilizando a bilbioteca pickle"
      ],
      "metadata": {
        "id": "wfuss-dNkA6W"
      }
    },
    {
      "cell_type": "code",
      "source": [
        "artifact_pkl_filename = 'model.pkl'\n",
        "\n",
        "local_path = artifact_pkl_filename\n",
        "with open(local_path, 'wb') as model_file:\n",
        "  pickle.dump(model, model_file)"
      ],
      "metadata": {
        "id": "itIuHRzBkBzr"
      },
      "execution_count": 22,
      "outputs": []
    },
    {
      "cell_type": "markdown",
      "source": [
        "### 7.2 Salvando o modelo utilizando a bilbioteca Joblib"
      ],
      "metadata": {
        "id": "h2e8nCzFlQkv"
      }
    },
    {
      "cell_type": "code",
      "source": [
        "artifact_joblib_filename = 'model.joblib'\n",
        "\n",
        "local_path = artifact_joblib_filename\n",
        "joblib.dump(model, local_path)"
      ],
      "metadata": {
        "id": "rOmcIWxjlWhL"
      },
      "execution_count": null,
      "outputs": []
    },
    {
      "cell_type": "markdown",
      "source": [
        "## 8.0 Conclusão"
      ],
      "metadata": {
        "id": "luYeashli4sJ"
      }
    },
    {
      "cell_type": "markdown",
      "source": [
        "O K-Nearest Neighbors (KNN) foi a escolha para classificar a ocorrência de doença neste conjunto de dados devido à sua natureza de aprendizado baseado em instâncias e habilidade de identificar padrões não lineares. Sua simplicidade, falta de suposições sobre a distribuição dos dados e adaptação a novos dados são fatores decisivos. Como o dataset em questão não possui um número considerável de instâncias (somente 303 pacientes).\n",
        "\n",
        "O K-NN foi escolhido também por evitar o overfitting dos dados, que é o fenômeno em modelos de aprendizado de máquina onde o algoritmo se ajusta excessivamente aos dados de treinamento, capturando não apenas os padrões reais, mas também o ruído aleatório presente nos dados, resultando em uma baixa capacidade de generalização para novos dados não vistos anteriormente.\n",
        "\n",
        "Enquanto métodos como o Naive Bayes Gaussiano assumem independência entre variáveis (o que não é verdade para este dataset com dados fisiológicos) e outros como SVM e CART podem ser sensíveis a fronteiras lineares ou a pressupostos específicos, o KNN se destaca por sua adaptabilidade, não requerendo treinamento explícito e sendo capaz de se ajustar facilmente a novos casos, aspectos cruciais em conjuntos de dados fisiológicos complexos como este.\n",
        "\n",
        "A partir dos resultados encontrados, podemos perceber que os dados dos exames cardíacos, tais como a análise do eletrocardiograma (ECG) do paciente e dos exames fisiológicos tanto em repouso quanto em exercício fornecem insights importantes sobre a saúde cardiovascular do paciente. Entretanto, apesar de assumir uma precisão bem acima de uma escolha aleatória, o modelo de categorização dos dados não é exato. Por isso, recomenda-se o acompanhamento médico constante e a adoção de medidas preventivas, como um estilo de vida saudável.\n",
        "\n",
        "O modelo por si só não deve ser utilizado como diagnóstico sem o auxílio de um médico. Porém, apesar de não ser perfeito, o modelo é importante para alertar a urgência no caso específico do paciente, para que as medidas médicas corretas sejam tomadas.\n",
        "\n",
        "\n"
      ],
      "metadata": {
        "id": "7RmBswLhfL88"
      }
    }
  ],
  "metadata": {
    "colab": {
      "provenance": [],
      "collapsed_sections": [
        "uwZXWqNSuiM1",
        "__FAWyYJ2NEv",
        "Wb23cVc-8CTb",
        "OikJZo7mWFLk",
        "MKTSjlS6RsKK",
        "iHCxkjLqRZs1",
        "bKtNflSfST05",
        "fqIo4P51mSEm",
        "yXbzavByShIp",
        "6nYboIx_j7vg",
        "luYeashli4sJ"
      ],
      "authorship_tag": "ABX9TyPTdV+ledjlB5PaiAZwwlJ8",
      "include_colab_link": true
    },
    "kernelspec": {
      "display_name": "Python 3",
      "name": "python3"
    },
    "language_info": {
      "name": "python"
    }
  },
  "nbformat": 4,
  "nbformat_minor": 0
}